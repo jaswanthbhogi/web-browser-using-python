{
 "cells": [
  {
   "cell_type": "code",
   "execution_count": null,
   "id": "f995a619",
   "metadata": {},
   "outputs": [],
   "source": [
    "from PyQt5.QtWidgets import *\n",
    "from PyQt5.QtWebEngineWidgets import *\n",
    "\n",
    "\n",
    "class Window(QMainWindow):\n",
    "    def __init__(self):\n",
    "        super(Window, self).__init__()\n",
    "        self.browser = QWebEngineView()\n",
    "        self.browser.setUrl(QUrl('http://google.com'))\n",
    "        self.setCentralWidget(self.browser)\n",
    "        self.showMaximized()\n",
    "\n",
    "        # navbar\n",
    "        navigation_bar = QToolBar()\n",
    "        self.addToolBar(navigation_bar)\n",
    "\n",
    "        back_button = QAction('Back', self)\n",
    "        back_button.triggered.connect(self.browser.back)\n",
    "        navigation_bar.addAction(back_button)\n",
    "\n",
    "        forward_button = QAction('Forward', self)\n",
    "        forward_button.triggered.connect(self.browser.forward)\n",
    "        navigation_bar.addAction(forward_button)\n",
    "\n",
    "        reload_button = QAction('Reload', self)\n",
    "        reload_button.triggered.connect(self.browser.reload)\n",
    "        navigation_bar.addAction(reload_button)\n",
    "\n",
    "        home_button = QAction('Home', self)\n",
    "        home_button.triggered.connect(self.navigate_home)\n",
    "        navigation_bar.addAction(home_button)\n",
    "\n",
    "        self.url_bar = QLineEdit()\n",
    "        self.url_bar.returnPressed.connect(self.navigate_to_url)\n",
    "        navigation_bar.addWidget(self.url_bar)\n",
    "\n",
    "        self.browser.urlChanged.connect(self.update_url)\n",
    "\n",
    "    def navigate_home(self):\n",
    "        self.browser.setUrl(QUrl('http://google.com'))\n",
    "\n",
    "    def navigate_to_url(self):\n",
    "        url = self.url_bar.text()\n",
    "        self.browser.setUrl(QUrl(url))\n",
    "\n",
    "    def update_url(self, q):\n",
    "        self.url_bar.setText(q.toString())\n",
    "\n",
    "\n",
    "app = QApplication(sys.argv)\n",
    "QApplication.setApplicationName('New world')\n",
    "main = Window()\n",
    "app.exec_()"
   ]
  }
 ],
 "metadata": {
  "kernelspec": {
   "display_name": "Python 3 (ipykernel)",
   "language": "python",
   "name": "python3"
  },
  "language_info": {
   "codemirror_mode": {
    "name": "ipython",
    "version": 3
   },
   "file_extension": ".py",
   "mimetype": "text/x-python",
   "name": "python",
   "nbconvert_exporter": "python",
   "pygments_lexer": "ipython3",
   "version": "3.9.7"
  }
 },
 "nbformat": 4,
 "nbformat_minor": 5
}
